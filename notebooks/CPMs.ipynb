{
 "cells": [
  {
   "cell_type": "code",
   "execution_count": null,
   "metadata": {
    "scrolled": true
   },
   "outputs": [],
   "source": [
    "import pandas as pd\n",
    "import numpy as np\n",
    "from datetime import date, datetime\n",
    "from sqlalchemy import create_engine\n",
    "import matplotlib.ticker as ticker\n",
    "import matplotlib.pyplot as plt\n",
    "import matplotlib.dates as mdates\n",
    "import matplotlib as mpl\n",
    "import seaborn as sns\n",
    "from os import environ\n",
    "BIDEN_PAGE_ID = 7860876103 \n",
    "TRUMP_PAGE_ID = 153080620724\n",
    "\n",
    "engine = create_engine(environ.get(\"DATABASE_URL\", \"psql:///facebook_ads\"))\n",
    "MARKUP_CPM_START_DATE = date(2020, 7, 1)\n",
    "MARKUP_CPM_END_DATE = date(2020, 10, 13)\n",
    "minimum_ad_campaign_spend = 2000\n",
    "\n"
   ]
  },
  {
   "cell_type": "markdown",
   "metadata": {},
   "source": [
    "## preliminaries"
   ]
  },
  {
   "cell_type": "markdown",
   "metadata": {},
   "source": [
    "### swing states"
   ]
  },
  {
   "cell_type": "code",
   "execution_count": 3,
   "metadata": {},
   "outputs": [],
   "source": [
    "SWING_STATES = [ # via Cook Political Report\n",
    "    'Florida', \n",
    "    'Arizona', \n",
    "    'Georgia', \n",
    "    'North Carolina', \n",
    "\n",
    "    'Michigan', \n",
    "    'Pennsylvania', \n",
    "    'Wisconsin', \n",
    "\n",
    "    'Minnesota',\n",
    "    'New Hampshire',\n",
    "    'Nevada',\n",
    "    \n",
    "    'Iowa', \n",
    "    'Ohio', \n",
    "    'Texas',\n",
    "]\n",
    "\n",
    "BIDEN_PAGE_ID = 7860876103\n",
    "TRUMP_PAGE_ID = 153080620724\n",
    "\n",
    "SWING_STATE_CUTOFF = 1.5 * pd.read_sql(\"select sum(case when region = ANY(%(states)s) then population else 0 end)::float / sum(population) proportion  from region_populations\", engine, params={\"states\":SWING_STATES})[\"proportion\"][0]"
   ]
  },
  {
   "cell_type": "code",
   "execution_count": 4,
   "metadata": {},
   "outputs": [
    {
     "data": {
      "text/plain": [
       "0.598504868799339"
      ]
     },
     "execution_count": 4,
     "metadata": {},
     "output_type": "execute_result"
    }
   ],
   "source": [
    "SWING_STATE_CUTOFF"
   ]
  },
  {
   "cell_type": "code",
   "execution_count": 5,
   "metadata": {},
   "outputs": [],
   "source": [
    "def get_swing_state_ads(page_id):\n",
    "    ad_ids_and_proportions = pd.read_sql(\"\"\"SELECT\n",
    "        archive_id, \n",
    "        sum(case when region = ANY(%(swing_states)s) then spend_percentage else 0 end) as swing_state_proportion\n",
    "    FROM ads \n",
    "    join region_impressions using (archive_id) \n",
    "    join impressions using (archive_id)\n",
    "    join page_metadata using (page_id)\n",
    "    where page_owner = %(page_id)s \n",
    "    and ad_creation_time > '2020-07-01'\n",
    "    group by archive_id;\"\"\", engine, params={'page_id': page_id, 'swing_states': SWING_STATES})\n",
    "    return ad_ids_and_proportions\n"
   ]
  },
  {
   "cell_type": "code",
   "execution_count": 6,
   "metadata": {},
   "outputs": [],
   "source": [
    "biden_all_ad_ids_and_swing_proportions = get_swing_state_ads(BIDEN_PAGE_ID)"
   ]
  },
  {
   "cell_type": "code",
   "execution_count": 7,
   "metadata": {},
   "outputs": [],
   "source": [
    "trump_all_ad_ids_and_swing_proportions = get_swing_state_ads(TRUMP_PAGE_ID)"
   ]
  },
  {
   "cell_type": "code",
   "execution_count": 8,
   "metadata": {},
   "outputs": [
    {
     "data": {
      "image/png": "[encoded data removed]",
      "text/plain": [
       "<Figure size 432x288 with 1 Axes>"
      ]
     },
     "metadata": {
      "needs_background": "light"
     },
     "output_type": "display_data"
    }
   ],
   "source": [
    "n, bins, patches = plt.hist(biden_all_ad_ids_and_swing_proportions[\"swing_state_proportion\"], 50, density=True, facecolor='g', alpha=0.75)\n",
    "pd.DataFrame({\"proportion\": n, \"bin_left\": bins[:-1]}).to_csv(\"swing_histogram_biden.csv\")\n",
    "plt.xlabel('swing state spend proportion')\n",
    "plt.ylabel('% of ads')\n",
    "plt.title('Biden')\n",
    "plt.vlines(SWING_STATE_CUTOFF, 0, 40)\n",
    "ax = plt.gca()\n",
    "ax.xaxis.set_major_formatter(ticker.PercentFormatter(xmax=1, decimals=0))\n",
    "plt.annotate(\"swing-state ads\", (0.7, 6.2))\n",
    "plt.annotate(\"non-swing-state ads\", (0.2, 6.2))\n",
    "plt.xlim(0, 1)\n",
    "plt.grid(True)\n",
    "plt.show()"
   ]
  },
  {
   "cell_type": "code",
   "execution_count": null,
   "metadata": {},
   "outputs": [],
   "source": []
  },
  {
   "cell_type": "code",
   "execution_count": 9,
   "metadata": {},
   "outputs": [
    {
     "data": {
      "image/png": "[encoded data removed]",
      "text/plain": [
       "<Figure size 432x288 with 1 Axes>"
      ]
     },
     "metadata": {
      "needs_background": "light"
     },
     "output_type": "display_data"
    }
   ],
   "source": [
    "n, bins, patches = plt.hist(trump_all_ad_ids_and_swing_proportions[\"swing_state_proportion\"], 50, density=True, facecolor='g', alpha=0.75)\n",
    "pd.DataFrame({\"proportion\": n, \"bin_left\": bins[:-1]}).to_csv(\"swing_histogram_trump.csv\")\n",
    "plt.xlabel('swing state spend proportion')\n",
    "plt.ylabel('% of ads')\n",
    "plt.title('Trump')\n",
    "plt.vlines(SWING_STATE_CUTOFF, 0, 40)\n",
    "ax = plt.gca()\n",
    "ax.xaxis.set_major_formatter(ticker.PercentFormatter(xmax=1, decimals=0))\n",
    "plt.annotate(\"swing-state ads\", (0.7, 6.2))\n",
    "plt.annotate(\"non-swing-state ads\", (0.2, 6.2))\n",
    "plt.xlim(0, 1)\n",
    "plt.grid(True)\n",
    "plt.show()"
   ]
  },
  {
   "cell_type": "markdown",
   "metadata": {},
   "source": [
    "### getting ads"
   ]
  },
  {
   "cell_type": "code",
   "execution_count": 10,
   "metadata": {},
   "outputs": [],
   "source": [
    "def get_ads(page_id):\n",
    "    return pd.read_sql(\"\"\"\n",
    "    select page_name, \n",
    "        funding_entity, \n",
    "        ads.archive_id, \n",
    "        ads.ad_creative_body, \n",
    "        ads.ad_creation_time, \n",
    "        ad_delivery_start_time,\n",
    "        min_impressions, max_impressions, \n",
    "        min_spend, max_spend,\n",
    "        (min_spend + max_spend) / 2 spend_midpoint,\n",
    "        potential_reach_min, potential_reach_max, \n",
    "        last_active_date \n",
    "    from ads \n",
    "    join pages using (page_id) \n",
    "    join impressions using (archive_id) \n",
    "    join page_metadata using (page_id) \n",
    "    where  page_owner = %(page_id)s and\n",
    "    ad_creation_time > '2020-07-01'\"\"\", engine, params={\"page_id\": page_id})"
   ]
  },
  {
   "cell_type": "markdown",
   "metadata": {},
   "source": [
    "#### Trump"
   ]
  },
  {
   "cell_type": "code",
   "execution_count": 11,
   "metadata": {},
   "outputs": [
    {
     "data": {
      "text/plain": [
       "datetime.datetime(2020, 10, 28, 16, 32, 48, 456684)"
      ]
     },
     "metadata": {},
     "output_type": "display_data"
    }
   ],
   "source": [
    "trump_ads_unjoined = get_ads(TRUMP_PAGE_ID)\n",
    "display(datetime.now())"
   ]
  },
  {
   "cell_type": "code",
   "execution_count": 12,
   "metadata": {},
   "outputs": [],
   "source": [
    "assert not trump_ads_unjoined.duplicated(subset=['archive_id']).any()\n",
    "assert not trump_all_ad_ids_and_swing_proportions.duplicated(subset=['archive_id']).any()"
   ]
  },
  {
   "cell_type": "code",
   "execution_count": 13,
   "metadata": {},
   "outputs": [
    {
     "name": "stdout",
     "output_type": "stream",
     "text": [
      "Trump ads: 376426\n"
     ]
    }
   ],
   "source": [
    "trump_all_ads = trump_ads_unjoined.set_index(\"archive_id\").join(trump_all_ad_ids_and_swing_proportions.set_index(\"archive_id\"))\n",
    "# trump_all_ads[\"ad_creative_body\"] = trump_all_ads[\"ad_creative_body\"].fillna('')\n",
    "trump_all_ads[\"mid_imps\"] = (trump_all_ads[\"min_impressions\"] + trump_all_ads[\"max_impressions\"])/2\n",
    "trump_all_ads[\"mid_cpm_sm\"] = trump_all_ads[\"spend_midpoint\"] / trump_all_ads[\"mid_imps\"] * 1000\n",
    "\n",
    "trump_swing_ads = trump_all_ads[trump_all_ads[\"swing_state_proportion\"] >= SWING_STATE_CUTOFF]\n",
    "trump_nonswing_ads = trump_all_ads[~(trump_all_ads[\"swing_state_proportion\"] >= SWING_STATE_CUTOFF)]\n",
    "\n",
    "\n",
    "fn = \"trump_all_ads_{}.csv\".format(date.today())\n",
    "trump_all_ads.reset_index().to_csv(fn)\n",
    "\n",
    "print(\"Trump ads: {}\".format(trump_all_ads.shape[0]))\n",
    "fn = \"trump_swing_ads_{}.csv\".format(date.today())\n",
    "trump_swing_ads.reset_index().to_csv(fn)\n",
    "\n",
    "fn = \"trump_nonswing_ads_{}.csv\".format(date.today())\n",
    "trump_nonswing_ads.reset_index().to_csv(fn)"
   ]
  },
  {
   "cell_type": "markdown",
   "metadata": {},
   "source": [
    "#### Biden"
   ]
  },
  {
   "cell_type": "code",
   "execution_count": 14,
   "metadata": {},
   "outputs": [],
   "source": [
    "all_biden_unjoined = get_ads(BIDEN_PAGE_ID)"
   ]
  },
  {
   "cell_type": "code",
   "execution_count": 15,
   "metadata": {},
   "outputs": [],
   "source": [
    "assert not all_biden_unjoined.duplicated(subset=['archive_id']).any()\n",
    "assert not biden_all_ad_ids_and_swing_proportions.duplicated(subset=['archive_id']).any()"
   ]
  },
  {
   "cell_type": "code",
   "execution_count": 16,
   "metadata": {},
   "outputs": [
    {
     "name": "stdout",
     "output_type": "stream",
     "text": [
      "Biden ads: 89978\n"
     ]
    }
   ],
   "source": [
    "biden_all_ads = all_biden_unjoined.set_index(\"archive_id\").join(biden_all_ad_ids_and_swing_proportions.set_index(\"archive_id\"))\n",
    "\n",
    "# exclude a few ads from Harris's PAC before she became VP nominee\n",
    "biden_all_ads = biden_all_ads[biden_all_ads[\"funding_entity\"] != \"FEARLESS FOR THE PEOPLE PAC\"]\n",
    "\n",
    "biden_all_ads[\"mid_imps\"] = (biden_all_ads[\"min_impressions\"] + biden_all_ads[\"max_impressions\"])/2\n",
    "biden_all_ads[\"mid_cpm_sm\"] = biden_all_ads[\"spend_midpoint\"] / biden_all_ads[\"mid_imps\"] * 1000\n",
    "\n",
    "\n",
    "biden_swing_ads = biden_all_ads[biden_all_ads[\"swing_state_proportion\"] >= SWING_STATE_CUTOFF]\n",
    "biden_nonswing_ads = biden_all_ads[~(biden_all_ads[\"swing_state_proportion\"] >= SWING_STATE_CUTOFF)]\n",
    "\n",
    "print(\"Biden ads: {}\".format(biden_all_ads.shape[0]))\n",
    "\n",
    "fn = \"biden_all_ads_{}.csv\".format(date.today())\n",
    "biden_all_ads.reset_index().to_csv(fn)\n",
    "\n",
    "\n",
    "fn = \"biden_swing_ads_{}.csv\".format(date.today())\n",
    "biden_swing_ads.reset_index().to_csv(fn)\n",
    "\n",
    "fn = \"biden_nonswing_ads_{}.csv\".format(date.today())\n",
    "biden_nonswing_ads.reset_index().to_csv(fn)"
   ]
  },
  {
   "cell_type": "markdown",
   "metadata": {},
   "source": [
    "# Summarizing ads"
   ]
  },
  {
   "cell_type": "code",
   "execution_count": 17,
   "metadata": {},
   "outputs": [],
   "source": [
    "MINIMUM_AD_SPEND_FOR_MEDIANS = 2000\n",
    "EXCLUDE_OVER1M_IMPS_ADS = True\n",
    "EXCLUDE_UNDER100SPEND_OR_UNDER1000IMPS_ADS = True\n",
    "def summarize_ads(biden_ads_unfiltered, \n",
    "              trump_ads_unfiltered, \n",
    "              name,\n",
    "              minimum_ad_spend_for_medians=2000, \n",
    "              exclude_over1m_imps_ads = EXCLUDE_OVER1M_IMPS_ADS, \n",
    "              exclude_under100spend_or_under1000imps_ads = EXCLUDE_UNDER100SPEND_OR_UNDER1000IMPS_ADS,\n",
    "              start_date=MARKUP_CPM_START_DATE.strftime(\"%Y-%m-%d\"),\n",
    "              end_date=MARKUP_CPM_END_DATE.strftime(\"%Y-%m-%d\"),\n",
    "                 \n",
    "                 ):\n",
    "    \"\"\" summarize a set of ads \"\"\"\n",
    "    print(\"{} start date: {}, end date: {}\".format(name, start_date, end_date))\n",
    "    trump_ads = trump_ads_unfiltered[(trump_ads_unfiltered[\"ad_creation_time\"] > start_date) & (trump_ads_unfiltered[\"ad_creation_time\"] < end_date)]\n",
    "    biden_ads = biden_ads_unfiltered[(biden_ads_unfiltered[\"ad_creation_time\"] > start_date) & (biden_ads_unfiltered[\"ad_creation_time\"] < end_date)]\n",
    "\n",
    "    trump_count_before = trump_ads.shape[0]\n",
    "    biden_count_before = biden_ads.shape[0]\n",
    "    trump_ads = trump_ads[trump_ads.apply( lambda x: (x['min_spend'] != 0 and x['max_impressions'] != 999) or not exclude_under100spend_or_under1000imps_ads, axis=1)]\n",
    "    biden_ads = biden_ads[biden_ads.apply( lambda x: (x['min_spend'] != 0 and x['max_impressions'] != 999) or not exclude_under100spend_or_under1000imps_ads, axis=1)]\n",
    "    trump_count_excluding_small = trump_ads.shape[0]\n",
    "    biden_count_excluding_small = biden_ads.shape[0]\n",
    "    trump_over_1m_imps_ads = trump_ads[trump_ads['min_impressions'] == 1000000 ]\n",
    "    biden_over_1m_imps_ads = biden_ads[biden_ads['min_impressions'] == 1000000 ]\n",
    "    \n",
    "    trump_over_1m_imps_count = trump_over_1m_imps_ads.shape[0]\n",
    "    biden_over_1m_imps_count = biden_over_1m_imps_ads.shape[0]\n",
    "    trump_over_1m_imps_mean = trump_over_1m_imps_ads[\"min_spend\"].sum() / trump_over_1m_imps_count\n",
    "    biden_over_1m_imps_mean = biden_over_1m_imps_ads[\"min_spend\"].sum() / biden_over_1m_imps_count\n",
    "    \n",
    "    print(\"{} Trump >1M avg cost: ${:,.0f} ({})\".format(name, trump_over_1m_imps_mean, trump_over_1m_imps_count))\n",
    "    print(\"{} Biden >1M avg cost: ${:,.0f} ({})\".format(name, biden_over_1m_imps_mean, biden_over_1m_imps_count))\n",
    "    trump_ads = trump_ads[trump_ads['min_impressions'].apply( lambda x: x != 1000000 or not exclude_over1m_imps_ads)]\n",
    "    biden_ads = biden_ads[biden_ads['min_impressions'].apply( lambda x: x != 1000000 or not exclude_over1m_imps_ads)]\n",
    "\n",
    "    print(\"{} Trump count {}\".format(name, trump_ads.shape[0]))\n",
    "    print(\"{} Biden count {}\".format(name, biden_ads.shape[0]))\n",
    "    \n",
    "    biden_mid_cpmsm_avg = (biden_ads['spend_midpoint'].sum() / (biden_ads['mid_imps'].sum() / 1000))\n",
    "\n",
    "    biden_spend_midpoint_total = biden_ads['spend_midpoint'].sum()\n",
    "    biden_imps_midpoint_total  = biden_ads['mid_imps'].sum()\n",
    "    \n",
    "    \n",
    "    trump_mid_cpmsm_avg = (trump_ads['spend_midpoint'].sum() / (trump_ads['mid_imps'].sum() / 1000))\n",
    "\n",
    "    trump_spend_midpoint_total = trump_ads['spend_midpoint'].sum()\n",
    "    trump_imps_midpoint_total  = trump_ads['mid_imps'].sum()\n",
    "\n",
    "    print(f\"{name} trump mean (mid imps, mid spend): ${trump_mid_cpmsm_avg:0.2f}\")\n",
    "    print(f\"{name} biden mean (mid imps, mid spend): ${biden_mid_cpmsm_avg:0.2f}\")\n",
    "\n",
    "    biden_ads_over_min = biden_ads[biden_ads[\"spend_midpoint\"] > minimum_ad_spend_for_medians]\n",
    "    trump_ads_over_min = trump_ads[trump_ads[\"spend_midpoint\"] > minimum_ad_spend_for_medians]\n",
    "\n",
    "    biden_q1_cpm = np.percentile(biden_ads_over_min[\"mid_cpm_sm\"], 25)\n",
    "    biden_med_cpm = np.percentile(biden_ads_over_min[\"mid_cpm_sm\"], 50)\n",
    "    biden_q3_cpm = np.percentile(biden_ads_over_min[\"mid_cpm_sm\"], 75)\n",
    "\n",
    "    trump_q1_cpm = np.percentile(trump_ads_over_min[\"mid_cpm_sm\"], 25)\n",
    "    trump_med_cpm = np.percentile(trump_ads_over_min[\"mid_cpm_sm\"], 50)\n",
    "    trump_q3_cpm = np.percentile(trump_ads_over_min[\"mid_cpm_sm\"], 75) \n",
    "\n",
    "    biden_over_trump_q3 = 100 * biden_ads_over_min[\"mid_cpm_sm\"].gt(np.percentile(trump_ads_over_min[\"mid_cpm_sm\"], 75)).mean()\n",
    "\n",
    "    print()\n",
    "    return {\n",
    "        \"biden\": {\n",
    "            \"mean\": biden_mid_cpmsm_avg,\n",
    "            \"spend_midpoint_total\": biden_spend_midpoint_total,\n",
    "            \"imps_midpoint_total\": biden_imps_midpoint_total, \n",
    "            \"total_ads\": biden_count_before,\n",
    "            \"excluded_small\": biden_count_before - biden_count_excluding_small,\n",
    "            \"excluded_large_count\": biden_over_1m_imps_count,\n",
    "            \"ads_after_exclusions\": biden_ads.shape[0],\n",
    "            \"excluded_large_mean\": biden_over_1m_imps_mean\n",
    "\n",
    "        },\n",
    "        \"trump\": {\n",
    "            \"mean\": trump_mid_cpmsm_avg,\n",
    "            \"spend_midpoint_total\": trump_spend_midpoint_total,\n",
    "            \"imps_midpoint_total\": trump_imps_midpoint_total, \n",
    "            \"total_ads\": trump_count_before,\n",
    "            \"excluded_small\": trump_count_before - trump_count_excluding_small,\n",
    "            \"excluded_large_count\": trump_over_1m_imps_count,\n",
    "            \"ads_after_exclusions\": trump_ads.shape[0],\n",
    "            \"excluded_large_mean\": trump_over_1m_imps_mean\n",
    "\n",
    "        }\n",
    "    }\n",
    "    "
   ]
  },
  {
   "cell_type": "code",
   "execution_count": 18,
   "metadata": {},
   "outputs": [
    {
     "name": "stdout",
     "output_type": "stream",
     "text": [
      "all ads start date: 2020-07-01, end date: 2020-10-13\n",
      "all ads Trump >1M avg cost: $25,349 (437)\n",
      "all ads Biden >1M avg cost: $41,222 (311)\n",
      "all ads Trump count 60161\n",
      "all ads Biden count 23046\n",
      "all ads trump mean (mid imps, mid spend): $23.09\n",
      "all ads biden mean (mid imps, mid spend): $25.53\n",
      "\n"
     ]
    }
   ],
   "source": [
    "trump_all_ads = pd.read_csv(\"trump_all_ads_2020-10-15.csv\")\n",
    "biden_all_ads = pd.read_csv(\"biden_all_ads_2020-10-15.csv\")\n",
    "\n",
    "all_ads_summary = summarize_ads(biden_all_ads, trump_all_ads, \"all ads\")"
   ]
  },
  {
   "cell_type": "code",
   "execution_count": 19,
   "metadata": {},
   "outputs": [
    {
     "name": "stdout",
     "output_type": "stream",
     "text": [
      "all ads start date: 2020-07-01, end date: 2020-09-01\n",
      "all ads Trump >1M avg cost: $22,931 (367)\n",
      "all ads Biden >1M avg cost: $54,000 (135)\n",
      "all ads Trump count 28954\n",
      "all ads Biden count 9037\n",
      "all ads trump mean (mid imps, mid spend): $20.35\n",
      "all ads biden mean (mid imps, mid spend): $28.55\n",
      "\n",
      "-------------------------------------------------------\n",
      "all ads start date: 2020-09-01, end date: 2020-10-15\n",
      "all ads Trump >1M avg cost: $38,824 (68)\n",
      "all ads Biden >1M avg cost: $31,599 (172)\n",
      "all ads Trump count 30193\n",
      "all ads Biden count 13757\n",
      "all ads trump mean (mid imps, mid spend): $26.56\n",
      "all ads biden mean (mid imps, mid spend): $24.01\n",
      "\n"
     ]
    }
   ],
   "source": [
    "all_ads_JulyAug_summary = summarize_ads(biden_all_ads, trump_all_ads, \"all ads\", start_date=\"2020-07-01\", end_date=\"2020-09-01\")\n",
    "print(\"-----------\" * 5)\n",
    "all_ads_SeptOct_summary = summarize_ads(biden_all_ads, trump_all_ads, \"all ads\", start_date=\"2020-09-01\", end_date=\"2020-10-15\");\n"
   ]
  },
  {
   "cell_type": "code",
   "execution_count": 20,
   "metadata": {},
   "outputs": [
    {
     "name": "stdout",
     "output_type": "stream",
     "text": [
      "swing state ads (not campaigns)\n",
      "swing ads start date: 2020-07-01, end date: 2020-10-13\n",
      "swing ads Trump >1M avg cost: $34,995 (96)\n",
      "swing ads Biden >1M avg cost: $29,537 (108)\n",
      "swing ads Trump count 27986\n",
      "swing ads Biden count 13292\n",
      "swing ads trump mean (mid imps, mid spend): $25.22\n",
      "swing ads biden mean (mid imps, mid spend): $27.35\n",
      "\n"
     ]
    }
   ],
   "source": [
    "print(\"swing state ads (not campaigns)\")\n",
    "trump_swing_ads = pd.read_csv(\"trump_swing_ads_2020-10-15.csv\")\n",
    "biden_swing_ads = pd.read_csv(\"biden_swing_ads_2020-10-15.csv\")\n",
    "\n",
    "swing_ads_summary = summarize_ads(biden_swing_ads, trump_swing_ads, \"swing ads\")"
   ]
  },
  {
   "cell_type": "code",
   "execution_count": 21,
   "metadata": {},
   "outputs": [
    {
     "name": "stdout",
     "output_type": "stream",
     "text": [
      "swing state ads (not campaigns)\n",
      "swing ads start date: 2020-07-01, end date: 2020-09-01\n",
      "swing ads Trump >1M avg cost: $23,685 (46)\n",
      "swing ads Biden >1M avg cost: $33,056 (18)\n",
      "swing ads Trump count 5858\n",
      "swing ads Biden count 4252\n",
      "swing ads trump mean (mid imps, mid spend): $16.55\n",
      "swing ads biden mean (mid imps, mid spend): $34.34\n",
      "\n",
      "-------------------------------------------------------\n",
      "swing ads start date: 2020-09-01, end date: 2020-10-15\n",
      "swing ads Trump >1M avg cost: $45,400 (50)\n",
      "swing ads Biden >1M avg cost: $28,833 (90)\n",
      "swing ads Trump count 21888\n",
      "swing ads Biden count 8996\n",
      "swing ads trump mean (mid imps, mid spend): $28.21\n",
      "swing ads biden mean (mid imps, mid spend): $25.19\n",
      "\n"
     ]
    }
   ],
   "source": [
    "print(\"swing state ads (not campaigns)\")\n",
    "trump_swing_ads = pd.read_csv(\"trump_swing_ads_2020-10-15.csv\")\n",
    "biden_swing_ads = pd.read_csv(\"biden_swing_ads_2020-10-15.csv\")\n",
    "\n",
    "\n",
    "swing_ads_JulyAug_summary = summarize_ads(biden_swing_ads, trump_swing_ads, \"swing ads\", start_date=\"2020-07-01\", end_date=\"2020-09-01\")\n",
    "print(\"-----------\" * 5)\n",
    "swing_ads_SeptOct_summary = summarize_ads(biden_swing_ads, trump_swing_ads, \"swing ads\", start_date=\"2020-09-01\", end_date=\"2020-10-15\")"
   ]
  },
  {
   "cell_type": "code",
   "execution_count": 22,
   "metadata": {},
   "outputs": [
    {
     "name": "stdout",
     "output_type": "stream",
     "text": [
      "non-swing state ads (not campaigns)\n",
      "non-swing ads start date: 2020-07-01, end date: 2020-10-13\n",
      "non-swing ads Trump >1M avg cost: $22,633 (341)\n",
      "non-swing ads Biden >1M avg cost: $47,438 (203)\n",
      "non-swing ads Trump count 32175\n",
      "non-swing ads Biden count 9754\n",
      "non-swing ads trump mean (mid imps, mid spend): $21.66\n",
      "non-swing ads biden mean (mid imps, mid spend): $23.11\n",
      "\n"
     ]
    }
   ],
   "source": [
    "print(\"non-swing state ads (not campaigns)\")\n",
    "trump_nonswing_ads = pd.read_csv(\"trump_nonswing_ads_2020-10-15.csv\")\n",
    "biden_nonswing_ads = pd.read_csv(\"biden_nonswing_ads_2020-10-15.csv\")\n",
    "nonswing_summary = summarize_ads(biden_nonswing_ads, trump_nonswing_ads, \"non-swing ads\")"
   ]
  }
 ],
 "metadata": {
  "kernelspec": {
   "display_name": "Python 3",
   "language": "python",
   "name": "python3"
  },
  "language_info": {
   "codemirror_mode": {
    "name": "ipython",
    "version": 3
   },
   "file_extension": ".py",
   "mimetype": "text/x-python",
   "name": "python",
   "nbconvert_exporter": "python",
   "pygments_lexer": "ipython3",
   "version": "3.8.2"
  },
  "toc": {
   "base_numbering": 1,
   "nav_menu": {},
   "number_sections": true,
   "sideBar": true,
   "skip_h1_title": false,
   "title_cell": "Table of Contents",
   "title_sidebar": "Contents",
   "toc_cell": false,
   "toc_position": {},
   "toc_section_display": true,
   "toc_window_display": false
  }
 },
 "nbformat": 4,
 "nbformat_minor": 4
}
